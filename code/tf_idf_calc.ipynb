{
 "cells": [
  {
   "cell_type": "code",
   "execution_count": 107,
   "metadata": {
    "collapsed": true
   },
   "outputs": [],
   "source": [
    "import nltk\n",
    "%matplotlib inline\n",
    "import pandas as pd\n",
    "import numpy as np\n",
    "import seaborn as sns\n",
    "from IPython.core.display import HTML\n",
    "import matplotlib.pyplot as plt\n",
    "stopwords = nltk.corpus.stopwords.words('english')"
   ]
  },
  {
   "cell_type": "code",
   "execution_count": 123,
   "metadata": {
    "collapsed": false
   },
   "outputs": [],
   "source": [
    "def freq(word, tokens):\n",
    "    return tokens.count(word)\n",
    "\n",
    "def word_count(tokens):\n",
    "    return len(tokens)\n",
    "\n",
    "def tf(word, tokens):\n",
    "    return (freq(word, tokens) / float(word_count(tokens)))\n",
    "\n",
    "def getFreqByDoc(doc):\n",
    "    #get tokens\n",
    "    tokens = nltk.word_tokenize(str(doc[1]) + ' ' + str(doc[2]))\n",
    "    \n",
    "    #get bitokens\n",
    "    bi_tokens =  nltk.bigrams(tokens)\n",
    "    bi_tokens = [' '.join(token).lower() for token in bi_tokens]\n",
    "    bi_tokens = [token for token in bi_tokens if token not in stopwords]\n",
    "\n",
    "    tokens = [token.lower() for token in tokens if len(token) > 2]\n",
    "    tokens = [token for token in tokens if token not in stopwords]\n",
    "\n",
    "    #merge tokens and bi\n",
    "    alltokens = []\n",
    "    alltokens.extend(tokens)\n",
    "    alltokens.extend(bi_tokens)\n",
    "\n",
    "    wc = word_count(tokens)\n",
    "    olist = []\n",
    "    for token in (alltokens):\n",
    "        f = freq(token, alltokens)\n",
    "        ilist = [doc[0], token, f, wc, f/float(wc), doc[3], doc[5]]\n",
    "        olist.append(ilist)\n",
    "    df = pd.DataFrame(olist, columns=['doc','word', 'frequency', 'word_count', 'tf','source', 'sample_type'])\n",
    "    with open('C:\\\\datascience\\\\datatest.csv', 'a') as f:\n",
    "        df.to_csv(f, header=False)    \n",
    "\n",
    "    return df\n",
    "\n",
    "def createFreqDf(sdf):\n",
    "    #pass a sample df\n",
    "    #make a list so that it can be iterated\n",
    "    mfgDfSampleList = sdf.as_matrix().tolist()\n",
    "    mfgFreqDfList = []\n",
    "    for mfg in mfgDfSampleList:\n",
    "        df = getFreqByDoc(mfg)\n",
    "        mfgFreqDfList.append(df)\n",
    "\n",
    "    mfgFreqDf = pd.concat(mfgFreqDfList)\n",
    "    return mfgFreqDf"
   ]
  },
  {
   "cell_type": "code",
   "execution_count": 119,
   "metadata": {
    "collapsed": false
   },
   "outputs": [],
   "source": [
    "#reading the abstracts in to a DF\n",
    "mfgDf = pd.DataFrame.from_csv('../../data/positive_data.csv', index_col=None)\n",
    "nsfDf = pd.DataFrame.from_csv('../../data/negative_data.csv', index_col=None)"
   ]
  },
  {
   "cell_type": "code",
   "execution_count": 120,
   "metadata": {
    "collapsed": false,
    "scrolled": true
   },
   "outputs": [
    {
     "data": {
      "text/plain": [
       "'nsfDfSample = nsfDf.sample(5)\\nnsfDfSample[\"sample_type\"] = \"NON-MFG\"'"
      ]
     },
     "execution_count": 120,
     "metadata": {},
     "output_type": "execute_result"
    }
   ],
   "source": [
    "#draw samples\n",
    "mfgDfSample = mfgDf.sample(10)\n",
    "mfgDfSample[\"sample_type\"] = \"MFG\"\n",
    "\n",
    "'''nsfDfSample = nsfDf.sample(5)\n",
    "nsfDfSample[\"sample_type\"] = \"NON-MFG\"'''"
   ]
  },
  {
   "cell_type": "code",
   "execution_count": 121,
   "metadata": {
    "collapsed": false,
    "scrolled": true
   },
   "outputs": [
    {
     "data": {
      "text/html": [
       "<div>\n",
       "<table border=\"1\" class=\"dataframe\">\n",
       "  <thead>\n",
       "    <tr style=\"text-align: right;\">\n",
       "      <th></th>\n",
       "      <th>id</th>\n",
       "      <th>title</th>\n",
       "      <th>abstract</th>\n",
       "      <th>event_name</th>\n",
       "      <th>event_year</th>\n",
       "      <th>sample_type</th>\n",
       "    </tr>\n",
       "  </thead>\n",
       "  <tbody>\n",
       "    <tr>\n",
       "      <th>2185</th>\n",
       "      <td>NSF_20140101_1462280</td>\n",
       "      <td>CHS: Medium: Collaborative Research: Immediate...</td>\n",
       "      <td>American Sign Language (ASL) is a primary mean...</td>\n",
       "      <td>NSF</td>\n",
       "      <td>2014.0</td>\n",
       "      <td>MFG</td>\n",
       "    </tr>\n",
       "    <tr>\n",
       "      <th>4080</th>\n",
       "      <td>CIRP_20120101_383-386</td>\n",
       "      <td>Raw part characterisation and automated alignm...</td>\n",
       "      <td>Large raw parts require a long time consuming ...</td>\n",
       "      <td>CIRP</td>\n",
       "      <td>2012.0</td>\n",
       "      <td>MFG</td>\n",
       "    </tr>\n",
       "    <tr>\n",
       "      <th>2627</th>\n",
       "      <td>NSF_20150101_1536918</td>\n",
       "      <td>Household-Level Use of Autonomous Vehicles: Mo...</td>\n",
       "      <td>With recent development in vehicle automation,...</td>\n",
       "      <td>NSF</td>\n",
       "      <td>2015.0</td>\n",
       "      <td>MFG</td>\n",
       "    </tr>\n",
       "    <tr>\n",
       "      <th>4358</th>\n",
       "      <td>CIRP_20140101_058-1205</td>\n",
       "      <td>Alternation of analysis and synthesis for conc...</td>\n",
       "      <td>Concept generation involves both analysis and ...</td>\n",
       "      <td>CIRP</td>\n",
       "      <td>2014.0</td>\n",
       "      <td>MFG</td>\n",
       "    </tr>\n",
       "    <tr>\n",
       "      <th>466</th>\n",
       "      <td>NSF_20130101_1316583</td>\n",
       "      <td>Workshop on Humanitarian Logistics Research, A...</td>\n",
       "      <td>This grant provides funding to host a workshop...</td>\n",
       "      <td>NSF</td>\n",
       "      <td>2013.0</td>\n",
       "      <td>MFG</td>\n",
       "    </tr>\n",
       "  </tbody>\n",
       "</table>\n",
       "</div>"
      ],
      "text/plain": [
       "                          id  \\\n",
       "2185    NSF_20140101_1462280   \n",
       "4080   CIRP_20120101_383-386   \n",
       "2627    NSF_20150101_1536918   \n",
       "4358  CIRP_20140101_058-1205   \n",
       "466     NSF_20130101_1316583   \n",
       "\n",
       "                                                  title  \\\n",
       "2185  CHS: Medium: Collaborative Research: Immediate...   \n",
       "4080  Raw part characterisation and automated alignm...   \n",
       "2627  Household-Level Use of Autonomous Vehicles: Mo...   \n",
       "4358  Alternation of analysis and synthesis for conc...   \n",
       "466   Workshop on Humanitarian Logistics Research, A...   \n",
       "\n",
       "                                               abstract event_name  \\\n",
       "2185  American Sign Language (ASL) is a primary mean...        NSF   \n",
       "4080  Large raw parts require a long time consuming ...       CIRP   \n",
       "2627  With recent development in vehicle automation,...        NSF   \n",
       "4358  Concept generation involves both analysis and ...       CIRP   \n",
       "466   This grant provides funding to host a workshop...        NSF   \n",
       "\n",
       "      event_year sample_type  \n",
       "2185      2014.0         MFG  \n",
       "4080      2012.0         MFG  \n",
       "2627      2015.0         MFG  \n",
       "4358      2014.0         MFG  \n",
       "466       2013.0         MFG  "
      ]
     },
     "execution_count": 121,
     "metadata": {},
     "output_type": "execute_result"
    }
   ],
   "source": [
    "mfgDfSample.head()"
   ]
  },
  {
   "cell_type": "code",
   "execution_count": 124,
   "metadata": {
    "collapsed": false
   },
   "outputs": [
    {
     "data": {
      "text/html": [
       "<div>\n",
       "<table border=\"1\" class=\"dataframe\">\n",
       "  <thead>\n",
       "    <tr style=\"text-align: right;\">\n",
       "      <th></th>\n",
       "      <th>doc</th>\n",
       "      <th>word</th>\n",
       "      <th>frequency</th>\n",
       "      <th>word_count</th>\n",
       "      <th>tf</th>\n",
       "      <th>source</th>\n",
       "      <th>sample_type</th>\n",
       "    </tr>\n",
       "  </thead>\n",
       "  <tbody>\n",
       "    <tr>\n",
       "      <th>0</th>\n",
       "      <td>NSF_20140101_1462280</td>\n",
       "      <td>chs</td>\n",
       "      <td>1</td>\n",
       "      <td>302</td>\n",
       "      <td>0.003311</td>\n",
       "      <td>NSF</td>\n",
       "      <td>MFG</td>\n",
       "    </tr>\n",
       "    <tr>\n",
       "      <th>1</th>\n",
       "      <td>NSF_20140101_1462280</td>\n",
       "      <td>medium</td>\n",
       "      <td>1</td>\n",
       "      <td>302</td>\n",
       "      <td>0.003311</td>\n",
       "      <td>NSF</td>\n",
       "      <td>MFG</td>\n",
       "    </tr>\n",
       "    <tr>\n",
       "      <th>2</th>\n",
       "      <td>NSF_20140101_1462280</td>\n",
       "      <td>collaborative</td>\n",
       "      <td>1</td>\n",
       "      <td>302</td>\n",
       "      <td>0.003311</td>\n",
       "      <td>NSF</td>\n",
       "      <td>MFG</td>\n",
       "    </tr>\n",
       "    <tr>\n",
       "      <th>3</th>\n",
       "      <td>NSF_20140101_1462280</td>\n",
       "      <td>research</td>\n",
       "      <td>2</td>\n",
       "      <td>302</td>\n",
       "      <td>0.006623</td>\n",
       "      <td>NSF</td>\n",
       "      <td>MFG</td>\n",
       "    </tr>\n",
       "    <tr>\n",
       "      <th>4</th>\n",
       "      <td>NSF_20140101_1462280</td>\n",
       "      <td>immediate</td>\n",
       "      <td>3</td>\n",
       "      <td>302</td>\n",
       "      <td>0.009934</td>\n",
       "      <td>NSF</td>\n",
       "      <td>MFG</td>\n",
       "    </tr>\n",
       "  </tbody>\n",
       "</table>\n",
       "</div>"
      ],
      "text/plain": [
       "                    doc           word  frequency  word_count        tf  \\\n",
       "0  NSF_20140101_1462280            chs          1         302  0.003311   \n",
       "1  NSF_20140101_1462280         medium          1         302  0.003311   \n",
       "2  NSF_20140101_1462280  collaborative          1         302  0.003311   \n",
       "3  NSF_20140101_1462280       research          2         302  0.006623   \n",
       "4  NSF_20140101_1462280      immediate          3         302  0.009934   \n",
       "\n",
       "  source sample_type  \n",
       "0    NSF         MFG  \n",
       "1    NSF         MFG  \n",
       "2    NSF         MFG  \n",
       "3    NSF         MFG  \n",
       "4    NSF         MFG  "
      ]
     },
     "execution_count": 124,
     "metadata": {},
     "output_type": "execute_result"
    }
   ],
   "source": [
    "mfgf = createFreqDf(mfgDfSample)\n",
    "#print(mfgf)\n",
    "#nsff = createFreqDf(nsfDfSample)\n",
    "#print(nsfgf)    \n",
    "mfgf.head()"
   ]
  },
  {
   "cell_type": "code",
   "execution_count": 113,
   "metadata": {
    "collapsed": false,
    "scrolled": true
   },
   "outputs": [
    {
     "data": {
      "text/html": [
       "<div>\n",
       "<table border=\"1\" class=\"dataframe\">\n",
       "  <thead>\n",
       "    <tr style=\"text-align: right;\">\n",
       "      <th></th>\n",
       "      <th>doc</th>\n",
       "      <th>word</th>\n",
       "      <th>frequency</th>\n",
       "      <th>word_count</th>\n",
       "      <th>tf</th>\n",
       "      <th>source</th>\n",
       "      <th>sample_type</th>\n",
       "    </tr>\n",
       "  </thead>\n",
       "  <tbody>\n",
       "    <tr>\n",
       "      <th>0</th>\n",
       "      <td>CIRP_20090101_2009-58-2-0647-E</td>\n",
       "      <td>ion</td>\n",
       "      <td>4</td>\n",
       "      <td>53</td>\n",
       "      <td>0.075472</td>\n",
       "      <td>CIRP</td>\n",
       "      <td>MFG</td>\n",
       "    </tr>\n",
       "    <tr>\n",
       "      <th>1</th>\n",
       "      <td>CIRP_20090101_2009-58-2-0647-E</td>\n",
       "      <td>beam</td>\n",
       "      <td>4</td>\n",
       "      <td>53</td>\n",
       "      <td>0.075472</td>\n",
       "      <td>CIRP</td>\n",
       "      <td>MFG</td>\n",
       "    </tr>\n",
       "    <tr>\n",
       "      <th>2</th>\n",
       "      <td>CIRP_20090101_2009-58-2-0647-E</td>\n",
       "      <td>focused</td>\n",
       "      <td>2</td>\n",
       "      <td>53</td>\n",
       "      <td>0.037736</td>\n",
       "      <td>CIRP</td>\n",
       "      <td>MFG</td>\n",
       "    </tr>\n",
       "    <tr>\n",
       "      <th>3</th>\n",
       "      <td>CIRP_20090101_2009-58-2-0647-E</td>\n",
       "      <td>ion</td>\n",
       "      <td>4</td>\n",
       "      <td>53</td>\n",
       "      <td>0.075472</td>\n",
       "      <td>CIRP</td>\n",
       "      <td>MFG</td>\n",
       "    </tr>\n",
       "    <tr>\n",
       "      <th>4</th>\n",
       "      <td>CIRP_20090101_2009-58-2-0647-E</td>\n",
       "      <td>beam</td>\n",
       "      <td>4</td>\n",
       "      <td>53</td>\n",
       "      <td>0.075472</td>\n",
       "      <td>CIRP</td>\n",
       "      <td>MFG</td>\n",
       "    </tr>\n",
       "  </tbody>\n",
       "</table>\n",
       "</div>"
      ],
      "text/plain": [
       "                              doc     word  frequency  word_count        tf  \\\n",
       "0  CIRP_20090101_2009-58-2-0647-E      ion          4          53  0.075472   \n",
       "1  CIRP_20090101_2009-58-2-0647-E     beam          4          53  0.075472   \n",
       "2  CIRP_20090101_2009-58-2-0647-E  focused          2          53  0.037736   \n",
       "3  CIRP_20090101_2009-58-2-0647-E      ion          4          53  0.075472   \n",
       "4  CIRP_20090101_2009-58-2-0647-E     beam          4          53  0.075472   \n",
       "\n",
       "  source sample_type  \n",
       "0   CIRP         MFG  \n",
       "1   CIRP         MFG  \n",
       "2   CIRP         MFG  \n",
       "3   CIRP         MFG  \n",
       "4   CIRP         MFG  "
      ]
     },
     "execution_count": 113,
     "metadata": {},
     "output_type": "execute_result"
    }
   ],
   "source": [
    "mfgf.head()\n",
    "#nsff.count()\n",
    "#mfgDfSample.count()\n",
    "#nsfDfSample.count()"
   ]
  },
  {
   "cell_type": "code",
   "execution_count": 114,
   "metadata": {
    "collapsed": false
   },
   "outputs": [],
   "source": [
    "mfgf_grp = mfgf.groupby([\"word\", \"doc\"]).size()"
   ]
  },
  {
   "cell_type": "code",
   "execution_count": 115,
   "metadata": {
    "collapsed": false,
    "scrolled": false
   },
   "outputs": [
    {
     "data": {
      "text/plain": [
       "word                 doc                            \n",
       "the traditional      CIRP_20080101_2008-57-1-0227-E     1\n",
       "analysis             NSF_20130101_1344017               1\n",
       "inability            NSF_20140101_1407033               1\n",
       "meeting .            NSF_20130101_1342469               1\n",
       "occasions            NSF_20140101_1407033               1\n",
       "methods for          NSF_20140101_1453651               1\n",
       "science              NSF_20140101_1453651               1\n",
       "projects             NSF_20140101_1453651               1\n",
       "key topic            NSF_20140101_1453651               1\n",
       "blast loads          NSF_20130101_1342469               1\n",
       "and ploughing        CIRP_20090101_2009-58-1-0049-C     1\n",
       "balance between      NSF_20140101_1407033               1\n",
       "given other          NSF_20140101_1453651               1\n",
       "performed quickly    NSF_20140101_1407033               1\n",
       "based                CIRP_20150101_064-1305             1\n",
       "rebuilding           NSF_20140101_1407033               1\n",
       "career :             NSF_20140101_1453651               1\n",
       "mechanistic          CIRP_20090101_2009-58-1-0049-C     2\n",
       "engineering design   CIRP_20100101_2010-59-2-0740-Dn    1\n",
       "leading              CIRP_20080101_2008-57-1-0037-A     1\n",
       "from the             NSF_20130101_1342469               1\n",
       "debris               NSF_20130101_1342469               1\n",
       "of liquefaction      NSF_20140101_1407033               5\n",
       "present              CIRP_20080101_2008-57-1-0037-A     1\n",
       "identity ,           NSF_20140101_1453651               1\n",
       "school provides      NSF_20130101_1344017               1\n",
       "models for           NSF_20140101_1453651               1\n",
       "recovery .           CIRP_20090101_2009-58-1-0049-C     1\n",
       "input modalities     NSF_20140101_1453651               1\n",
       "br/                  NSF_20140101_1407033               2\n",
       "                                                       ..\n",
       "repetition           CIRP_20150101_064-1305             1\n",
       "some unique          CIRP_20080101_2008-57-1-0227-E     1\n",
       ", these              NSF_20140101_1453651               1\n",
       "millions of          NSF_20140101_1407033               1\n",
       "participate during   NSF_20140101_1407033               1\n",
       "must participate     NSF_20140101_1407033               1\n",
       "social network       NSF_20130101_1344017               1\n",
       "be performed         NSF_20140101_1407033               1\n",
       "engineers during     NSF_20140101_1407033               1\n",
       "notably artificial   NSF_20130101_1344017               1\n",
       "the populated        NSF_20130101_1342469               1\n",
       "school will          NSF_20130101_1344017               1\n",
       "be reviewed          NSF_20130101_1342469               1\n",
       ", which              CIRP_20150101_064-1305             1\n",
       "fib                  CIRP_20090101_2009-58-2-0647-E     1\n",
       "testing .            NSF_20140101_1407033               1\n",
       "the documentation    NSF_20130101_1342469               1\n",
       "context              CIRP_20100101_2010-59-2-0740-Dn    2\n",
       "result               NSF_20140101_1407033               1\n",
       "of cycle             CIRP_20080101_2008-57-1-0037-A     1\n",
       ") ,                  NSF_20140101_1453651               1\n",
       "christchurch funded  NSF_20140101_1407033               1\n",
       "classification ,     NSF_20140101_1453651               1\n",
       "analytics            NSF_20130101_1344017               3\n",
       "apply                NSF_20130101_1344017               1\n",
       "of significant       NSF_20140101_1407033               1\n",
       "school               NSF_20130101_1344017               6\n",
       "a graphical          NSF_20140101_1453651               1\n",
       "take part            NSF_20130101_1344017               1\n",
       "in addition          NSF_20140101_1453651               3\n",
       "dtype: int64"
      ]
     },
     "execution_count": 115,
     "metadata": {},
     "output_type": "execute_result"
    }
   ],
   "source": [
    "mfgf_grp.sample(100)"
   ]
  },
  {
   "cell_type": "code",
   "execution_count": 116,
   "metadata": {
    "collapsed": false
   },
   "outputs": [
    {
     "data": {
      "text/html": [
       "<div>\n",
       "<table border=\"1\" class=\"dataframe\">\n",
       "  <thead>\n",
       "    <tr style=\"text-align: right;\">\n",
       "      <th></th>\n",
       "      <th>doc</th>\n",
       "      <th>word</th>\n",
       "      <th>frequency</th>\n",
       "      <th>word_count</th>\n",
       "      <th>tf</th>\n",
       "      <th>source</th>\n",
       "      <th>sample_type</th>\n",
       "    </tr>\n",
       "  </thead>\n",
       "  <tbody>\n",
       "  </tbody>\n",
       "</table>\n",
       "</div>"
      ],
      "text/plain": [
       "Empty DataFrame\n",
       "Columns: [doc, word, frequency, word_count, tf, source, sample_type]\n",
       "Index: []"
      ]
     },
     "execution_count": 116,
     "metadata": {},
     "output_type": "execute_result"
    }
   ],
   "source": [
    "d = mfgf\n",
    "d = d[(d.doc == \"NSF_20150101_1537648\") & (d.word == \"graphene\")]\n",
    "d"
   ]
  }
 ],
 "metadata": {
  "kernelspec": {
   "display_name": "Python 3",
   "language": "python",
   "name": "python3"
  },
  "language_info": {
   "codemirror_mode": {
    "name": "ipython",
    "version": 3
   },
   "file_extension": ".py",
   "mimetype": "text/x-python",
   "name": "python",
   "nbconvert_exporter": "python",
   "pygments_lexer": "ipython3",
   "version": "3.5.1"
  }
 },
 "nbformat": 4,
 "nbformat_minor": 0
}
