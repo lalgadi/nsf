{
 "cells": [
  {
   "cell_type": "code",
   "execution_count": 37,
   "metadata": {
    "collapsed": true
   },
   "outputs": [],
   "source": [
    "import nltk\n",
    "%matplotlib inline\n",
    "import pandas as pd\n",
    "import numpy as np\n",
    "import seaborn as sns\n",
    "from IPython.core.display import HTML\n",
    "import matplotlib.pyplot as plt\n",
    "stopwords = nltk.corpus.stopwords.words('english')"
   ]
  },
  {
   "cell_type": "code",
   "execution_count": 38,
   "metadata": {
    "collapsed": false
   },
   "outputs": [],
   "source": [
    "def freq(word, tokens):\n",
    "    return tokens.count(word)\n",
    "\n",
    "def word_count(tokens):\n",
    "    return len(tokens)\n",
    "\n",
    "def tf(word, tokens):\n",
    "    return (freq(word, tokens) / float(word_count(tokens)))\n",
    "\n",
    "def getFreqByDoc(doc):\n",
    "    #get tokens\n",
    "    tokens = nltk.word_tokenize(str(doc[1]) + ' ' + str(doc[2]))\n",
    "    \n",
    "    #get bitokens\n",
    "    bi_tokens =  nltk.bigrams(tokens)\n",
    "    bi_tokens = [' '.join(token).lower() for token in bi_tokens]\n",
    "    bi_tokens = [token for token in bi_tokens if token not in stopwords]\n",
    "\n",
    "    tokens = [token.lower() for token in tokens if len(token) > 2]\n",
    "    tokens = [token for token in tokens if token not in stopwords]\n",
    "\n",
    "    #merge tokens and bi\n",
    "    alltokens = []\n",
    "    alltokens.extend(tokens)\n",
    "    alltokens.extend(bi_tokens)\n",
    "\n",
    "    '''\n",
    "    olist = []\n",
    "    for word in (keywords):\n",
    "        f = freq(word, alltokens)\n",
    "        ilist = [doc[0], word, f, doc[3], doc[5]]\n",
    "        olist.append(ilist)\n",
    "    df = pd.DataFrame(olist, columns=['doc','word', 'frequency', 'source', 'sample_type'])\n",
    "    '''\n",
    "    wc = word_count(tokens)\n",
    "    olist = []\n",
    "    for token in (alltokens):\n",
    "        f = freq(token, alltokens)\n",
    "        ilist = [doc[0], token, f, wc, f/float(wc), doc[3], doc[5]]\n",
    "        olist.append(ilist)\n",
    "        df = pd.DataFrame(olist, columns=['doc','word', 'frequency', 'word_count', 'tf','source', 'sample_type'])\n",
    "    \n",
    "    return df\n",
    "\n",
    "def createFreqDf(sdf):\n",
    "    #pass a sample df\n",
    "    #make a list so that it can be iterated\n",
    "    mfgDfSampleList = sdf.as_matrix().tolist()\n",
    "    mfgFreqDfList = []\n",
    "    for mfg in mfgDfSampleList:\n",
    "        df = getFreqByDoc(mfg)\n",
    "        mfgFreqDfList.append(df)\n",
    "\n",
    "    mfgFreqDf = pd.concat(mfgFreqDfList)\n",
    "    return mfgFreqDf"
   ]
  },
  {
   "cell_type": "code",
   "execution_count": 39,
   "metadata": {
    "collapsed": false
   },
   "outputs": [],
   "source": [
    "#reading the abstracts in to a DF\n",
    "mfgDf = pd.DataFrame.from_csv('../../data/positive_data.csv', index_col=None)\n",
    "nsfDf = pd.DataFrame.from_csv('../../data/negative_data.csv', index_col=None)"
   ]
  },
  {
   "cell_type": "code",
   "execution_count": 40,
   "metadata": {
    "collapsed": false,
    "scrolled": true
   },
   "outputs": [
    {
     "data": {
      "text/plain": [
       "'nsfDfSample = nsfDf.sample(5)\\nnsfDfSample[\"sample_type\"] = \"NON-MFG\"'"
      ]
     },
     "execution_count": 40,
     "metadata": {},
     "output_type": "execute_result"
    }
   ],
   "source": [
    "#draw samples\n",
    "mfgDfSample = mfgDf.sample(5)\n",
    "mfgDfSample[\"sample_type\"] = \"MFG\"\n",
    "\n",
    "'''nsfDfSample = nsfDf.sample(5)\n",
    "nsfDfSample[\"sample_type\"] = \"NON-MFG\"'''"
   ]
  },
  {
   "cell_type": "code",
   "execution_count": 41,
   "metadata": {
    "collapsed": false,
    "scrolled": false
   },
   "outputs": [
    {
     "data": {
      "text/html": [
       "<div>\n",
       "<table border=\"1\" class=\"dataframe\">\n",
       "  <thead>\n",
       "    <tr style=\"text-align: right;\">\n",
       "      <th></th>\n",
       "      <th>id</th>\n",
       "      <th>title</th>\n",
       "      <th>abstract</th>\n",
       "      <th>event_name</th>\n",
       "      <th>event_year</th>\n",
       "      <th>sample_type</th>\n",
       "    </tr>\n",
       "  </thead>\n",
       "  <tbody>\n",
       "    <tr>\n",
       "      <th>2109</th>\n",
       "      <td>NSF_20140101_1447449</td>\n",
       "      <td>BIGDATA: F: DKA: CSD: Human and Machine Co-Pro...</td>\n",
       "      <td>Human experts are crucial to data analysis. Th...</td>\n",
       "      <td>NSF</td>\n",
       "      <td>2014.0</td>\n",
       "      <td>MFG</td>\n",
       "    </tr>\n",
       "    <tr>\n",
       "      <th>3259</th>\n",
       "      <td>NSF_20150101_1525919</td>\n",
       "      <td>III: Small: Collaborative Research: Towards In...</td>\n",
       "      <td>This research project investigates the design ...</td>\n",
       "      <td>NSF</td>\n",
       "      <td>2015.0</td>\n",
       "      <td>MFG</td>\n",
       "    </tr>\n",
       "    <tr>\n",
       "      <th>1301</th>\n",
       "      <td>NSF_20140101_1419210</td>\n",
       "      <td>BIGDATA: Small: DA: A Random Projection Approach</td>\n",
       "      <td>With the advent of Internet, numerous applicat...</td>\n",
       "      <td>NSF</td>\n",
       "      <td>2014.0</td>\n",
       "      <td>MFG</td>\n",
       "    </tr>\n",
       "    <tr>\n",
       "      <th>1122</th>\n",
       "      <td>NSF_20130101_1350562</td>\n",
       "      <td>SBIR Phase II: WIldlife Deterrence from Hazard...</td>\n",
       "      <td>This Small Business Innovation Research (SBIR)...</td>\n",
       "      <td>NSF</td>\n",
       "      <td>2013.0</td>\n",
       "      <td>MFG</td>\n",
       "    </tr>\n",
       "    <tr>\n",
       "      <th>3674</th>\n",
       "      <td>CIRP_20090101_2009-58-1-0495-S</td>\n",
       "      <td>Performance of water-soluble fullerenol as nov...</td>\n",
       "      <td>We propose a novel chemical–mechanical polishi...</td>\n",
       "      <td>CIRP</td>\n",
       "      <td>2009.0</td>\n",
       "      <td>MFG</td>\n",
       "    </tr>\n",
       "  </tbody>\n",
       "</table>\n",
       "</div>"
      ],
      "text/plain": [
       "                                  id  \\\n",
       "2109            NSF_20140101_1447449   \n",
       "3259            NSF_20150101_1525919   \n",
       "1301            NSF_20140101_1419210   \n",
       "1122            NSF_20130101_1350562   \n",
       "3674  CIRP_20090101_2009-58-1-0495-S   \n",
       "\n",
       "                                                  title  \\\n",
       "2109  BIGDATA: F: DKA: CSD: Human and Machine Co-Pro...   \n",
       "3259  III: Small: Collaborative Research: Towards In...   \n",
       "1301   BIGDATA: Small: DA: A Random Projection Approach   \n",
       "1122  SBIR Phase II: WIldlife Deterrence from Hazard...   \n",
       "3674  Performance of water-soluble fullerenol as nov...   \n",
       "\n",
       "                                               abstract event_name  \\\n",
       "2109  Human experts are crucial to data analysis. Th...        NSF   \n",
       "3259  This research project investigates the design ...        NSF   \n",
       "1301  With the advent of Internet, numerous applicat...        NSF   \n",
       "1122  This Small Business Innovation Research (SBIR)...        NSF   \n",
       "3674  We propose a novel chemical–mechanical polishi...       CIRP   \n",
       "\n",
       "      event_year sample_type  \n",
       "2109      2014.0         MFG  \n",
       "3259      2015.0         MFG  \n",
       "1301      2014.0         MFG  \n",
       "1122      2013.0         MFG  \n",
       "3674      2009.0         MFG  "
      ]
     },
     "execution_count": 41,
     "metadata": {},
     "output_type": "execute_result"
    }
   ],
   "source": [
    "mfgDfSample.head()"
   ]
  },
  {
   "cell_type": "code",
   "execution_count": 42,
   "metadata": {
    "collapsed": false
   },
   "outputs": [
    {
     "data": {
      "text/html": [
       "<div>\n",
       "<table border=\"1\" class=\"dataframe\">\n",
       "  <thead>\n",
       "    <tr style=\"text-align: right;\">\n",
       "      <th></th>\n",
       "      <th>doc</th>\n",
       "      <th>word</th>\n",
       "      <th>frequency</th>\n",
       "      <th>word_count</th>\n",
       "      <th>tf</th>\n",
       "      <th>source</th>\n",
       "      <th>sample_type</th>\n",
       "    </tr>\n",
       "  </thead>\n",
       "  <tbody>\n",
       "    <tr>\n",
       "      <th>0</th>\n",
       "      <td>NSF_20140101_1447449</td>\n",
       "      <td>bigdata</td>\n",
       "      <td>0</td>\n",
       "      <td>186</td>\n",
       "      <td>0.0</td>\n",
       "      <td>NSF</td>\n",
       "      <td>MFG</td>\n",
       "    </tr>\n",
       "    <tr>\n",
       "      <th>1</th>\n",
       "      <td>NSF_20140101_1447449</td>\n",
       "      <td>dka</td>\n",
       "      <td>0</td>\n",
       "      <td>186</td>\n",
       "      <td>0.0</td>\n",
       "      <td>NSF</td>\n",
       "      <td>MFG</td>\n",
       "    </tr>\n",
       "    <tr>\n",
       "      <th>2</th>\n",
       "      <td>NSF_20140101_1447449</td>\n",
       "      <td>csd</td>\n",
       "      <td>0</td>\n",
       "      <td>186</td>\n",
       "      <td>0.0</td>\n",
       "      <td>NSF</td>\n",
       "      <td>MFG</td>\n",
       "    </tr>\n",
       "    <tr>\n",
       "      <th>3</th>\n",
       "      <td>NSF_20140101_1447449</td>\n",
       "      <td>human</td>\n",
       "      <td>0</td>\n",
       "      <td>186</td>\n",
       "      <td>0.0</td>\n",
       "      <td>NSF</td>\n",
       "      <td>MFG</td>\n",
       "    </tr>\n",
       "    <tr>\n",
       "      <th>4</th>\n",
       "      <td>NSF_20140101_1447449</td>\n",
       "      <td>machine</td>\n",
       "      <td>0</td>\n",
       "      <td>186</td>\n",
       "      <td>0.0</td>\n",
       "      <td>NSF</td>\n",
       "      <td>MFG</td>\n",
       "    </tr>\n",
       "  </tbody>\n",
       "</table>\n",
       "</div>"
      ],
      "text/plain": [
       "                    doc     word  frequency  word_count   tf source  \\\n",
       "0  NSF_20140101_1447449  bigdata          0         186  0.0    NSF   \n",
       "1  NSF_20140101_1447449      dka          0         186  0.0    NSF   \n",
       "2  NSF_20140101_1447449      csd          0         186  0.0    NSF   \n",
       "3  NSF_20140101_1447449    human          0         186  0.0    NSF   \n",
       "4  NSF_20140101_1447449  machine          0         186  0.0    NSF   \n",
       "\n",
       "  sample_type  \n",
       "0         MFG  \n",
       "1         MFG  \n",
       "2         MFG  \n",
       "3         MFG  \n",
       "4         MFG  "
      ]
     },
     "execution_count": 42,
     "metadata": {},
     "output_type": "execute_result"
    }
   ],
   "source": [
    "mfgf = createFreqDf(mfgDfSample)\n",
    "#print(mfgf)\n",
    "nsff = createFreqDf(nsfDfSample)\n",
    "#print(nsfgf)    \n",
    "mfgf.head()"
   ]
  },
  {
   "cell_type": "code",
   "execution_count": null,
   "metadata": {
    "collapsed": true
   },
   "outputs": [],
   "source": []
  }
 ],
 "metadata": {
  "kernelspec": {
   "display_name": "Python 3",
   "language": "python",
   "name": "python3"
  },
  "language_info": {
   "codemirror_mode": {
    "name": "ipython",
    "version": 3
   },
   "file_extension": ".py",
   "mimetype": "text/x-python",
   "name": "python",
   "nbconvert_exporter": "python",
   "pygments_lexer": "ipython3",
   "version": "3.5.1"
  }
 },
 "nbformat": 4,
 "nbformat_minor": 0
}
