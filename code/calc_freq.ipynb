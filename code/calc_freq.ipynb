{
 "cells": [
  {
   "cell_type": "code",
   "execution_count": 4,
   "metadata": {
    "collapsed": true
   },
   "outputs": [],
   "source": [
    "import nltk\n",
    "%matplotlib inline\n",
    "import pandas as pd\n",
    "import numpy as np\n",
    "import seaborn as sns\n",
    "from IPython.core.display import HTML\n",
    "import matplotlib.pyplot as plt\n",
    "stopwords = nltk.corpus.stopwords.words('english')"
   ]
  },
  {
   "cell_type": "code",
   "execution_count": 5,
   "metadata": {
    "collapsed": false
   },
   "outputs": [],
   "source": [
    "def freq(word, tokens):\n",
    "    return tokens.count(word)\n",
    "\n",
    "def word_count(tokens):\n",
    "    return len(tokens)\n",
    "\n",
    "def tf(word, tokens):\n",
    "    return (freq(word, tokens) / float(word_count(tokens)))\n",
    "\n",
    "def getFreqByDoc(doc):\n",
    "    #get tokens\n",
    "    tokens = nltk.word_tokenize(str(doc[1]) + ' ' + str(doc[2]))\n",
    "    \n",
    "    #get bitokens\n",
    "    bi_tokens =  nltk.bigrams(tokens)\n",
    "    bi_tokens = [' '.join(token).lower() for token in bi_tokens]\n",
    "    bi_tokens = [token for token in bi_tokens if token not in stopwords]\n",
    "\n",
    "    tokens = [token.lower() for token in tokens if len(token) > 2]\n",
    "    tokens = [token for token in tokens if token not in stopwords]\n",
    "\n",
    "    #merge tokens and bi\n",
    "    alltokens = []\n",
    "    alltokens.extend(tokens)\n",
    "    alltokens.extend(bi_tokens)\n",
    "\n",
    "    wc = word_count(tokens)\n",
    "    olist = []\n",
    "    for token in (alltokens):\n",
    "        f = freq(token, alltokens)\n",
    "        ilist = [doc[0], token, f, wc, f/float(wc), doc[3], doc[5]]\n",
    "        olist.append(ilist)\n",
    "    df = pd.DataFrame(olist, columns=['doc','word', 'frequency', 'word_count', 'tf','source', 'sample_type'])\n",
    "    \n",
    "    with open(file_name, 'C:\\\\datascience\\\\datatest.csv') as f:\n",
    "        df.to_csv(f, header=False)    \n",
    "    \n",
    "    return df\n",
    "\n",
    "def createFreqDf(sdf):\n",
    "    #pass a sample df\n",
    "    #make a list so that it can be iterated\n",
    "    mfgDfSampleList = sdf.as_matrix().tolist()\n",
    "    mfgFreqDfList = []\n",
    "    for mfg in mfgDfSampleList:\n",
    "        df = getFreqByDoc(mfg)\n",
    "        mfgFreqDfList.append(df)\n",
    "\n",
    "    mfgFreqDf = pd.concat(mfgFreqDfList)\n",
    "    return mfgFreqDf"
   ]
  },
  {
   "cell_type": "code",
   "execution_count": 6,
   "metadata": {
    "collapsed": false
   },
   "outputs": [],
   "source": [
    "#reading the abstracts in to a DF\n",
    "mfgDf = pd.DataFrame.from_csv('../../data/positive_data.csv', index_col=None)\n",
    "nsfDf = pd.DataFrame.from_csv('../../data/negative_data.csv', index_col=None)"
   ]
  },
  {
   "cell_type": "code",
   "execution_count": 7,
   "metadata": {
    "collapsed": false,
    "scrolled": true
   },
   "outputs": [
    {
     "data": {
      "text/plain": [
       "'nsfDfSample = nsfDf.sample(5)\\nnsfDfSample[\"sample_type\"] = \"NON-MFG\"'"
      ]
     },
     "execution_count": 7,
     "metadata": {},
     "output_type": "execute_result"
    }
   ],
   "source": [
    "#draw samples\n",
    "mfgDfSample = mfgDf.sample(10)\n",
    "mfgDfSample[\"sample_type\"] = \"MFG\"\n",
    "\n",
    "'''nsfDfSample = nsfDf.sample(5)\n",
    "nsfDfSample[\"sample_type\"] = \"NON-MFG\"'''"
   ]
  },
  {
   "cell_type": "code",
   "execution_count": null,
   "metadata": {
    "collapsed": true
   },
   "outputs": [],
   "source": []
  }
 ],
 "metadata": {
  "kernelspec": {
   "display_name": "Python 3",
   "language": "python",
   "name": "python3"
  },
  "language_info": {
   "codemirror_mode": {
    "name": "ipython",
    "version": 3
   },
   "file_extension": ".py",
   "mimetype": "text/x-python",
   "name": "python",
   "nbconvert_exporter": "python",
   "pygments_lexer": "ipython3",
   "version": "3.5.1"
  }
 },
 "nbformat": 4,
 "nbformat_minor": 0
}
