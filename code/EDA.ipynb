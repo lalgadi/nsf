{
 "cells": [
  {
   "cell_type": "code",
   "execution_count": 85,
   "metadata": {
    "collapsed": true
   },
   "outputs": [],
   "source": [
    "import nltk\n",
    "%matplotlib inline\n",
    "import pandas as pd\n",
    "import numpy as np\n",
    "import seaborn as sns\n",
    "from IPython.core.display import HTML\n",
    "import matplotlib.pyplot as plt\n"
   ]
  },
  {
   "cell_type": "code",
   "execution_count": 86,
   "metadata": {
    "collapsed": true
   },
   "outputs": [],
   "source": [
    "keywords = [\"machine tool\",\n",
    "\"metal cutting\",\n",
    "\"manufacturing\",\n",
    "\"additive manufacturing\",\n",
    "\"3d printing\",\n",
    "\"metal forming\",\n",
    "\"robot\",\n",
    "\"aluminium\",\n",
    "\"aluminum\",\n",
    "\"alloy\",\n",
    "\"titanium\",\n",
    "\"titanium alloy\"]\n",
    "stopwords = nltk.corpus.stopwords.words('english')"
   ]
  },
  {
   "cell_type": "code",
   "execution_count": 87,
   "metadata": {
    "collapsed": false
   },
   "outputs": [],
   "source": [
    "def freq(word, tokens):\n",
    "    return tokens.count(word)\n",
    "\n",
    "def word_count(tokens):\n",
    "    return len(tokens)\n",
    "\n",
    "def tf(word, tokens):\n",
    "    return (freq(word, tokens) / float(word_count(tokens)))\n",
    "\n",
    "def getFreqByDoc(doc):\n",
    "    #get tokens\n",
    "    tokens = nltk.word_tokenize(str(doc[1]) + ' ' + str(doc[2]))\n",
    "    \n",
    "    #get bitokens\n",
    "    bi_tokens =  nltk.bigrams(tokens)\n",
    "    bi_tokens = [' '.join(token).lower() for token in bi_tokens]\n",
    "    bi_tokens = [token for token in bi_tokens if token not in stopwords]\n",
    "\n",
    "    tokens = [token.lower() for token in tokens if len(token) > 2]\n",
    "    tokens = [token for token in tokens if token not in stopwords]\n",
    "\n",
    "    #merge tokens and bi\n",
    "    alltokens = []\n",
    "    alltokens.extend(tokens)\n",
    "    alltokens.extend(bi_tokens)\n",
    "\n",
    "    olist = []\n",
    "    for word in (keywords):\n",
    "        f = freq(word, alltokens)\n",
    "        ilist = [doc[0], word, f, doc[3], doc[5]]\n",
    "        olist.append(ilist)\n",
    "    df = pd.DataFrame(olist, columns=['doc','word', 'frequency', 'source', 'sample_type'])\n",
    "    return df\n",
    "\n",
    "def createFreqDf(sdf):\n",
    "    #pass a sample df\n",
    "    #make a list so that it can be iterated\n",
    "    mfgDfSampleList = sdf.as_matrix().tolist()\n",
    "    mfgFreqDfList = []\n",
    "    for mfg in mfgDfSampleList:\n",
    "        df = getFreqByDoc(mfg)\n",
    "        mfgFreqDfList.append(df)\n",
    "\n",
    "    mfgFreqDf = pd.concat(mfgFreqDfList)\n",
    "    return mfgFreqDf"
   ]
  },
  {
   "cell_type": "code",
   "execution_count": 88,
   "metadata": {
    "collapsed": false
   },
   "outputs": [],
   "source": [
    "#reading the abstracts in to a DF\n",
    "mfgDf = pd.DataFrame.from_csv('../../data/positive_data.csv', index_col=None)\n",
    "nsfDf = pd.DataFrame.from_csv('../../data/negative_data.csv', index_col=None)"
   ]
  },
  {
   "cell_type": "code",
   "execution_count": 89,
   "metadata": {
    "collapsed": false,
    "scrolled": true
   },
   "outputs": [
    {
     "ename": "ValueError",
     "evalue": "Cannot take a larger sample than population when 'replace=False'",
     "output_type": "error",
     "traceback": [
      "\u001b[1;31m---------------------------------------------------------------------------\u001b[0m",
      "\u001b[1;31mValueError\u001b[0m                                Traceback (most recent call last)",
      "\u001b[1;32m<ipython-input-89-d6fa3b4f9076>\u001b[0m in \u001b[0;36m<module>\u001b[1;34m()\u001b[0m\n\u001b[0;32m      1\u001b[0m \u001b[1;31m#draw samples\u001b[0m\u001b[1;33m\u001b[0m\u001b[1;33m\u001b[0m\u001b[0m\n\u001b[1;32m----> 2\u001b[1;33m \u001b[0mmfgDfSample\u001b[0m \u001b[1;33m=\u001b[0m \u001b[0mmfgDf\u001b[0m\u001b[1;33m.\u001b[0m\u001b[0msample\u001b[0m\u001b[1;33m(\u001b[0m\u001b[1;36m5000\u001b[0m\u001b[1;33m)\u001b[0m\u001b[1;33m\u001b[0m\u001b[0m\n\u001b[0m\u001b[0;32m      3\u001b[0m \u001b[0mmfgDfSample\u001b[0m\u001b[1;33m[\u001b[0m\u001b[1;34m\"sample_type\"\u001b[0m\u001b[1;33m]\u001b[0m \u001b[1;33m=\u001b[0m \u001b[1;34m\"MFG\"\u001b[0m\u001b[1;33m\u001b[0m\u001b[0m\n\u001b[0;32m      4\u001b[0m \u001b[1;33m\u001b[0m\u001b[0m\n\u001b[0;32m      5\u001b[0m \u001b[0mnsfDfSample\u001b[0m \u001b[1;33m=\u001b[0m \u001b[0mnsfDf\u001b[0m\u001b[1;33m.\u001b[0m\u001b[0msample\u001b[0m\u001b[1;33m(\u001b[0m\u001b[1;36m5000\u001b[0m\u001b[1;33m)\u001b[0m\u001b[1;33m\u001b[0m\u001b[0m\n",
      "\u001b[1;32mC:\\Anaconda3\\lib\\site-packages\\pandas\\core\\generic.py\u001b[0m in \u001b[0;36msample\u001b[1;34m(self, n, frac, replace, weights, random_state, axis)\u001b[0m\n\u001b[0;32m   2567\u001b[0m                              \"provide positive value.\")\n\u001b[0;32m   2568\u001b[0m \u001b[1;33m\u001b[0m\u001b[0m\n\u001b[1;32m-> 2569\u001b[1;33m         \u001b[0mlocs\u001b[0m \u001b[1;33m=\u001b[0m \u001b[0mrs\u001b[0m\u001b[1;33m.\u001b[0m\u001b[0mchoice\u001b[0m\u001b[1;33m(\u001b[0m\u001b[0maxis_length\u001b[0m\u001b[1;33m,\u001b[0m \u001b[0msize\u001b[0m\u001b[1;33m=\u001b[0m\u001b[0mn\u001b[0m\u001b[1;33m,\u001b[0m \u001b[0mreplace\u001b[0m\u001b[1;33m=\u001b[0m\u001b[0mreplace\u001b[0m\u001b[1;33m,\u001b[0m \u001b[0mp\u001b[0m\u001b[1;33m=\u001b[0m\u001b[0mweights\u001b[0m\u001b[1;33m)\u001b[0m\u001b[1;33m\u001b[0m\u001b[0m\n\u001b[0m\u001b[0;32m   2570\u001b[0m         \u001b[1;32mreturn\u001b[0m \u001b[0mself\u001b[0m\u001b[1;33m.\u001b[0m\u001b[0mtake\u001b[0m\u001b[1;33m(\u001b[0m\u001b[0mlocs\u001b[0m\u001b[1;33m,\u001b[0m \u001b[0maxis\u001b[0m\u001b[1;33m=\u001b[0m\u001b[0maxis\u001b[0m\u001b[1;33m,\u001b[0m \u001b[0mis_copy\u001b[0m\u001b[1;33m=\u001b[0m\u001b[1;32mFalse\u001b[0m\u001b[1;33m)\u001b[0m\u001b[1;33m\u001b[0m\u001b[0m\n\u001b[0;32m   2571\u001b[0m \u001b[1;33m\u001b[0m\u001b[0m\n",
      "\u001b[1;32mmtrand.pyx\u001b[0m in \u001b[0;36mmtrand.RandomState.choice (numpy\\random\\mtrand\\mtrand.c:12517)\u001b[1;34m()\u001b[0m\n",
      "\u001b[1;31mValueError\u001b[0m: Cannot take a larger sample than population when 'replace=False'"
     ]
    }
   ],
   "source": [
    "#draw samples\n",
    "mfgDfSample = mfgDf.sample(3000)\n",
    "mfgDfSample[\"sample_type\"] = \"MFG\"\n",
    "\n",
    "nsfDfSample = nsfDf.sample(3000)\n",
    "nsfDfSample[\"sample_type\"] = \"NON-MFG\""
   ]
  },
  {
   "cell_type": "code",
   "execution_count": null,
   "metadata": {
    "collapsed": false,
    "scrolled": true
   },
   "outputs": [],
   "source": [
    "mfgDfSample.head()"
   ]
  },
  {
   "cell_type": "code",
   "execution_count": null,
   "metadata": {
    "collapsed": false
   },
   "outputs": [],
   "source": [
    "mfgf = createFreqDf(mfgDfSample)\n",
    "#print(mfgf)\n",
    "nsff = createFreqDf(nsfDfSample)\n",
    "#print(nsfgf)    \n",
    "#mfgf.head()"
   ]
  },
  {
   "cell_type": "code",
   "execution_count": null,
   "metadata": {
    "collapsed": false
   },
   "outputs": [],
   "source": [
    "print('Keyword Frequency Mfg')\n",
    "mfgf.groupby(['word'])['frequency'].sum().plot(kind='bar')"
   ]
  },
  {
   "cell_type": "code",
   "execution_count": null,
   "metadata": {
    "collapsed": false,
    "scrolled": false
   },
   "outputs": [],
   "source": [
    "print('Keyword Frequency Non-Mfg')\n",
    "nsff.groupby(['word'])['frequency'].sum().plot(kind='bar')"
   ]
  },
  {
   "cell_type": "code",
   "execution_count": null,
   "metadata": {
    "collapsed": false,
    "scrolled": true
   },
   "outputs": [],
   "source": [
    "aDf = pd.concat([mfgf, nsff])\n",
    "#aDf.head() "
   ]
  },
  {
   "cell_type": "code",
   "execution_count": null,
   "metadata": {
    "collapsed": false
   },
   "outputs": [],
   "source": [
    "nsff.head()"
   ]
  },
  {
   "cell_type": "code",
   "execution_count": null,
   "metadata": {
    "collapsed": false,
    "scrolled": true
   },
   "outputs": [],
   "source": [
    "sns.set_style(\"whitegrid\")\n",
    "sns.set_palette([\"#e74c3c\", \"#2ecc71\"])\n",
    "sns.set_context(\"poster\")\n",
    "plt.figure(figsize=(12, 8))\n",
    "sns.barplot(x=\"frequency\", y=\"word\", hue=\"sample_type\", data=aDf)\n"
   ]
  },
  {
   "cell_type": "code",
   "execution_count": null,
   "metadata": {
    "collapsed": false,
    "scrolled": true
   },
   "outputs": [],
   "source": [
    "sns.set_context(\"poster\")\n",
    "plt.figure(figsize=(12, 8))\n",
    "sns.stripplot(y=\"word\", x=\"frequency\", hue=\"sample_type\", data=aDf, jitter=True);"
   ]
  }
 ],
 "metadata": {
  "kernelspec": {
   "display_name": "Python 3",
   "language": "python",
   "name": "python3"
  },
  "language_info": {
   "codemirror_mode": {
    "name": "ipython",
    "version": 3
   },
   "file_extension": ".py",
   "mimetype": "text/x-python",
   "name": "python",
   "nbconvert_exporter": "python",
   "pygments_lexer": "ipython3",
   "version": "3.5.1"
  }
 },
 "nbformat": 4,
 "nbformat_minor": 0
}
