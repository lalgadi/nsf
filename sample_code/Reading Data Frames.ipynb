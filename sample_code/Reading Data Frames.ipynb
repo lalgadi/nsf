{
 "cells": [
  {
   "cell_type": "code",
   "execution_count": 10,
   "metadata": {
    "collapsed": true
   },
   "outputs": [],
   "source": [
    "%matplotlib inline\n",
    "import pandas as pd\n",
    "import csv"
   ]
  },
  {
   "cell_type": "code",
   "execution_count": 18,
   "metadata": {
    "collapsed": false,
    "scrolled": true
   },
   "outputs": [
    {
     "data": {
      "text/html": [
       "<div>\n",
       "<table border=\"1\" class=\"dataframe\">\n",
       "  <thead>\n",
       "    <tr style=\"text-align: right;\">\n",
       "      <th></th>\n",
       "      <th>id</th>\n",
       "      <th>title</th>\n",
       "      <th>abstract</th>\n",
       "      <th>event_year</th>\n",
       "    </tr>\n",
       "  </thead>\n",
       "  <tbody>\n",
       "    <tr>\n",
       "      <th>0</th>\n",
       "      <td>NSF_20150101_1522627</td>\n",
       "      <td>I-Corps: Portable Light Scattering Device for ...</td>\n",
       "      <td>Iron deficiency anemia (IDA) and thalassemia t...</td>\n",
       "      <td>2015.0</td>\n",
       "    </tr>\n",
       "    <tr>\n",
       "      <th>1</th>\n",
       "      <td>NSF_20150101_1535360</td>\n",
       "      <td>Collaborative Research: A Study of Interaction...</td>\n",
       "      <td>This award is supported the EHR Core Research ...</td>\n",
       "      <td>2015.0</td>\n",
       "    </tr>\n",
       "    <tr>\n",
       "      <th>2</th>\n",
       "      <td>NSF_20150101_1540018</td>\n",
       "      <td>I/UCRC Phase I: Collaborative Research: I/UCRC...</td>\n",
       "      <td>Coatings are often characterized/classified by...</td>\n",
       "      <td>2015.0</td>\n",
       "    </tr>\n",
       "    <tr>\n",
       "      <th>3</th>\n",
       "      <td>NSF_20150101_1528041</td>\n",
       "      <td>III: Small: Low-Cost Deduplication and Search ...</td>\n",
       "      <td>Organizations and companies often archive high...</td>\n",
       "      <td>2015.0</td>\n",
       "    </tr>\n",
       "    <tr>\n",
       "      <th>4</th>\n",
       "      <td>NSF_20150101_1535789</td>\n",
       "      <td>Student Support: 2015 Manufacturing Science an...</td>\n",
       "      <td>This award supports 60 graduate and undergradu...</td>\n",
       "      <td>2015.0</td>\n",
       "    </tr>\n",
       "  </tbody>\n",
       "</table>\n",
       "</div>"
      ],
      "text/plain": [
       "                     id                                              title  \\\n",
       "0  NSF_20150101_1522627  I-Corps: Portable Light Scattering Device for ...   \n",
       "1  NSF_20150101_1535360  Collaborative Research: A Study of Interaction...   \n",
       "2  NSF_20150101_1540018  I/UCRC Phase I: Collaborative Research: I/UCRC...   \n",
       "3  NSF_20150101_1528041  III: Small: Low-Cost Deduplication and Search ...   \n",
       "4  NSF_20150101_1535789  Student Support: 2015 Manufacturing Science an...   \n",
       "\n",
       "                                            abstract  event_year  \n",
       "0  Iron deficiency anemia (IDA) and thalassemia t...      2015.0  \n",
       "1  This award is supported the EHR Core Research ...      2015.0  \n",
       "2  Coatings are often characterized/classified by...      2015.0  \n",
       "3  Organizations and companies often archive high...      2015.0  \n",
       "4  This award supports 60 graduate and undergradu...      2015.0  "
      ]
     },
     "execution_count": 18,
     "metadata": {},
     "output_type": "execute_result"
    }
   ],
   "source": [
    "mfgDf = pd.DataFrame.from_csv('../data/cirp_abstracts.csv', index_col=None)\n",
    "mfgDf.head()\n",
    "\n",
    "nsfDf = pd.DataFrame.from_csv('../data/nsf_abstracts_neg.csv', index_col=None)\n",
    "nsfDf.head()\n",
    "#mfgDf.as_matrix().tolist()"
   ]
  },
  {
   "cell_type": "code",
   "execution_count": 27,
   "metadata": {
    "collapsed": false
   },
   "outputs": [],
   "source": [
    "#calculates frequency of keywords, makes a dataframe and returns it\n",
    "def calcFreq(mfg):\n",
    "    \n",
    "    doc = []\n",
    "    word = []\n",
    "    frequency = []\n",
    "    \n",
    "    doc.append('test')\n",
    "    word.append('key')\n",
    "    frequency.append(1)\n",
    "    \n",
    "    doc.append('test')\n",
    "    word.append('key')\n",
    "    frequency.append(1)\n",
    "    \n",
    "    doc.append('test')\n",
    "    word.append('key')\n",
    "    frequency.append(1)\n",
    "    \n",
    "    df = pd.DataFrame({'doc':doc, 'word':word, 'frequency': frequency})\n",
    "    \n",
    "    return df"
   ]
  },
  {
   "cell_type": "code",
   "execution_count": 42,
   "metadata": {
    "collapsed": false
   },
   "outputs": [
    {
     "data": {
      "text/html": [
       "<div>\n",
       "<table border=\"1\" class=\"dataframe\">\n",
       "  <thead>\n",
       "    <tr style=\"text-align: right;\">\n",
       "      <th></th>\n",
       "      <th>doc</th>\n",
       "      <th>word</th>\n",
       "      <th>frequency</th>\n",
       "    </tr>\n",
       "  </thead>\n",
       "  <tbody>\n",
       "    <tr>\n",
       "      <th>0</th>\n",
       "      <td>d</td>\n",
       "      <td>w</td>\n",
       "      <td>1.0</td>\n",
       "    </tr>\n",
       "    <tr>\n",
       "      <th>1</th>\n",
       "      <td>d</td>\n",
       "      <td>w</td>\n",
       "      <td>2.0</td>\n",
       "    </tr>\n",
       "  </tbody>\n",
       "</table>\n",
       "</div>"
      ],
      "text/plain": [
       "  doc word  frequency\n",
       "0   d    w        1.0\n",
       "1   d    w        2.0"
      ]
     },
     "execution_count": 42,
     "metadata": {},
     "output_type": "execute_result"
    }
   ],
   "source": [
    "df2 = calcFreq('adfad')\n",
    "df3 = pd.DataFrame([['d','w',1],['d','w',2]], columns=['doc','word', 'frequency'])\n",
    "df3\n",
    "\n",
    "df4 = pd.DataFrame([], columns=['doc','word', 'frequency'])\n",
    "df4.append(df3)\n",
    "\n",
    "\n"
   ]
  },
  {
   "cell_type": "code",
   "execution_count": 19,
   "metadata": {
    "collapsed": false
   },
   "outputs": [],
   "source": [
    "with open('../data/cirp_abstracts.csv', 'r') as f:\n",
    "  reader = csv.reader(f)\n",
    "  your_list = list(reader)\n",
    "\n",
    "#print(your_list)"
   ]
  }
 ],
 "metadata": {
  "kernelspec": {
   "display_name": "Python 3",
   "language": "python",
   "name": "python3"
  },
  "language_info": {
   "codemirror_mode": {
    "name": "ipython",
    "version": 3
   },
   "file_extension": ".py",
   "mimetype": "text/x-python",
   "name": "python",
   "nbconvert_exporter": "python",
   "pygments_lexer": "ipython3",
   "version": "3.5.1"
  }
 },
 "nbformat": 4,
 "nbformat_minor": 0
}
